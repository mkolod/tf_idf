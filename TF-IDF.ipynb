{
 "cells": [
  {
   "cell_type": "markdown",
   "metadata": {},
   "source": [
    "## Word count"
   ]
  },
  {
   "cell_type": "code",
   "execution_count": 1,
   "metadata": {
    "collapsed": false
   },
   "outputs": [],
   "source": [
    "import re\n",
    "import string\n",
    "import urllib2\n",
    "\n",
    "regex = re.compile('[%s]' % re.escape(string.punctuation))\n",
    "\n",
    "def word_count(text_file_url):\n",
    "    text = urllib2.urlopen(text_file_url)\n",
    "    wordcount={}\n",
    "    for word in text.read().split():\n",
    "        w = regex.sub('', word.lower())\n",
    "        if w not in wordcount:\n",
    "            wordcount[w] = 1\n",
    "        else:\n",
    "            wordcount[w] += 1\n",
    "    print(\"Done with word count for %s\" % (text_file_url))\n",
    "    return wordcount"
   ]
  },
  {
   "cell_type": "markdown",
   "metadata": {},
   "source": [
    "## Data"
   ]
  },
  {
   "cell_type": "code",
   "execution_count": 2,
   "metadata": {
    "collapsed": false
   },
   "outputs": [
    {
     "name": "stdout",
     "output_type": "stream",
     "text": [
      "Done with word count for http://www.gutenberg.org/cache/epub/10/pg10.txt\n",
      "Done with word count for http://seattlecentral.edu/faculty/flepeint/java143/hw7/hamlet.text\n",
      "Done with word count for https://www.mathworks.com/moler/ncm/gettysburg.txt\n"
     ]
    }
   ],
   "source": [
    "bible = word_count(\"http://www.gutenberg.org/cache/epub/10/pg10.txt\")\n",
    "hamlet = word_count(\"http://seattlecentral.edu/faculty/flepeint/java143/hw7/hamlet.text\")\n",
    "gettysburg = word_count(\"https://www.mathworks.com/moler/ncm/gettysburg.txt\")"
   ]
  },
  {
   "cell_type": "markdown",
   "metadata": {},
   "source": [
    "## Get the top 10 words from each document"
   ]
  },
  {
   "cell_type": "code",
   "execution_count": 3,
   "metadata": {
    "collapsed": false
   },
   "outputs": [
    {
     "name": "stdout",
     "output_type": "stream",
     "text": [
      "\n",
      "Top 10 words from Bible\n",
      "[('the', 64202), ('and', 51764), ('of', 34789), ('to', 13660), ('that', 12927), ('in', 12725), ('he', 10421), ('shall', 9840), ('unto', 8997), ('for', 8996)]\n",
      "\n",
      "Top 10 words from Hamlet\n",
      "[('the', 1090), ('and', 964), ('to', 742), ('of', 675), ('i', 577), ('a', 558), ('you', 554), ('my', 520), ('in', 434), ('it', 419)]\n",
      "\n",
      "Top 10 words from Gettysburg Address\n",
      "[('that', 13), ('the', 11), ('we', 10), ('to', 8), ('here', 8), ('', 7), ('a', 7), ('and', 6), ('nation', 5), ('not', 5)]\n"
     ]
    }
   ],
   "source": [
    "import operator\n",
    "\n",
    "def sort_dict_by_value(dict):\n",
    "    return sorted(dict.items(), key=operator.itemgetter(1), reverse=True)\n",
    "    \n",
    "bible_sorted = sort_dict_by_value(bible)\n",
    "hamlet_sorted = sort_dict_by_value(hamlet)\n",
    "gettysburg_sorted = sort_dict_by_value(gettysburg)\n",
    "\n",
    "print(\"\\nTop 10 words from Bible\")\n",
    "print(bible_sorted[:10])\n",
    "\n",
    "print(\"\\nTop 10 words from Hamlet\")\n",
    "print(hamlet_sorted[:10])\n",
    "\n",
    "print(\"\\nTop 10 words from Gettysburg Address\")\n",
    "print(gettysburg_sorted[:10])"
   ]
  },
  {
   "cell_type": "markdown",
   "metadata": {},
   "source": [
    "## Term frequency"
   ]
  },
  {
   "cell_type": "code",
   "execution_count": 4,
   "metadata": {
    "collapsed": false
   },
   "outputs": [
    {
     "name": "stdout",
     "output_type": "stream",
     "text": [
      "\n",
      "Top term frequencies for the Bible\n",
      "\n",
      "[('the', 1.0), ('and', 0.9031338587582942), ('of', 0.7709339272919846), ('to', 0.6063829787234043), ('that', 0.6006744338182611), ('in', 0.5991012741036105), ('he', 0.5811579078533379), ('shall', 0.5766331266938725), ('unto', 0.5700679106569889), ('for', 0.5700601227376094), ('i', 0.5689542381857263), ('his', 0.5659870409021526), ('a', 0.564125728170462), ('lord', 0.5609794087411607), ('they', 0.5574670571010248), ('be', 0.5547646490763528), ('is', 0.5546244665275225), ('him', 0.5518597551478147), ('not', 0.5515326625338774), ('them', 0.5500763216099187)]\n",
      "\n",
      "Top term frequencies for Hamlet\n",
      "\n",
      "[('the', 1.0), ('and', 0.9422018348623853), ('to', 0.8403669724770642), ('of', 0.8096330275229358), ('i', 0.7646788990825688), ('a', 0.7559633027522936), ('you', 0.7541284403669725), ('my', 0.7385321100917431), ('in', 0.6990825688073394), ('it', 0.6922018348623853), ('that', 0.678440366972477), ('ham', 0.6642201834862386), ('is', 0.6587155963302752), ('not', 0.6444954128440367), ('his', 0.6394495412844037), ('this', 0.6376146788990826), ('with', 0.6270642201834862), ('but', 0.6256880733944954), ('for', 0.6146788990825688), ('your', 0.6110091743119266)]\n",
      "\n",
      "Top term frequencies for Gettysburg Address\n",
      "\n",
      "[('that', 1.0), ('the', 0.9230769230769231), ('we', 0.8846153846153846), ('to', 0.8076923076923077), ('here', 0.8076923076923077), ('', 0.7692307692307692), ('a', 0.7692307692307692), ('and', 0.7307692307692308), ('nation', 0.6923076923076923), ('not', 0.6923076923076923), ('for', 0.6923076923076923), ('of', 0.6923076923076923), ('can', 0.6923076923076923), ('it', 0.6923076923076923), ('have', 0.6923076923076923), ('this', 0.6538461538461539), ('dedicated', 0.6538461538461539), ('in', 0.6538461538461539), ('people', 0.6153846153846154), ('dead', 0.6153846153846154)]\n"
     ]
    }
   ],
   "source": [
    "def tf(d):\n",
    "    max_ct = sort_dict_by_value(d)[0][1]\n",
    "    term_freq = dict()\n",
    "    for word in d:\n",
    "        term_freq[word] = 0.5 + 0.5 * d[word] / max_ct\n",
    "    return term_freq\n",
    "\n",
    "print(\"\\nTop term frequencies for the Bible\\n\")\n",
    "print(sort_dict_by_value(tf(bible))[:20])\n",
    "\n",
    "print(\"\\nTop term frequencies for Hamlet\\n\")\n",
    "print(sort_dict_by_value(tf(hamlet))[:20])\n",
    "\n",
    "print(\"\\nTop term frequencies for Gettysburg Address\\n\")\n",
    "print(sort_dict_by_value(tf(gettysburg))[:20])\n"
   ]
  },
  {
   "cell_type": "markdown",
   "metadata": {},
   "source": [
    "## Inverse document frequency"
   ]
  },
  {
   "cell_type": "code",
   "execution_count": 5,
   "metadata": {
    "collapsed": false
   },
   "outputs": [
    {
     "name": "stdout",
     "output_type": "stream",
     "text": [
      "\n",
      "Inverse document frequency (log scale)\n",
      "\n",
      "[('giddel', 0.4054651081081644), ('writings', 0.4054651081081644), ('oertop', 0.4054651081081644), ('nunnery', 0.4054651081081644), ('tormenting', 0.4054651081081644), ('mozah', 0.4054651081081644), ('aijalon', 0.4054651081081644), ('spiders', 0.4054651081081644), ('5111', 0.4054651081081644), ('hanging', 0.4054651081081644)]\n"
     ]
    }
   ],
   "source": [
    "import math\n",
    "\n",
    "def merge_dict_keys(dicts):\n",
    "    merged = set()\n",
    "    for d in dicts:\n",
    "        merged = merged | set(d.keys())\n",
    "    return merged\n",
    "\n",
    "def idf(dicts):\n",
    "    inv_doc_freq = dict()\n",
    "    merged_words = merge_dict_keys(dicts)\n",
    "    num_docs = len(dicts)\n",
    "    for word in merged_words:\n",
    "        count = 0.0\n",
    "        for d in dicts:\n",
    "            if word in d:\n",
    "                count += 1\n",
    "        inv_doc_freq[word] = math.log(num_docs / (count + 1))  # max(count, 1)\n",
    "    return inv_doc_freq\n",
    "\n",
    "inv_doc_freq = sort_dict_by_value(idf([bible, hamlet, gettysburg]))\n",
    "\n",
    "print(\"\\nInverse document frequency (log scale)\\n\")\n",
    "print(inv_doc_freq[:10])"
   ]
  },
  {
   "cell_type": "code",
   "execution_count": 6,
   "metadata": {
    "collapsed": false
   },
   "outputs": [],
   "source": [
    "def tf_idf(document_dict, all_dicts):\n",
    "    inv_doc_freq = idf(all_dicts)\n",
    "    weighted = dict()\n",
    "    for word in document_dict:\n",
    "        weighted[word] = document_dict[word] * inv_doc_freq[word]\n",
    "    return weighted"
   ]
  },
  {
   "cell_type": "code",
   "execution_count": 7,
   "metadata": {
    "collapsed": false
   },
   "outputs": [
    {
     "name": "stdout",
     "output_type": "stream",
     "text": [
      "\n",
      "Top 10 results from the Bible\n",
      "\n",
      "[('saith', 511.6969664325035), ('david', 409.9252242973542), ('jesus', 398.5722012703256), ('moses', 345.45627210815604), ('judah', 329.23766778382947), ('jerusalem', 328.8322026757213), ('offering', 293.55673827031103), ('called', 257.0648785405762), ('egypt', 247.73918105408845), ('brethren', 228.27685586489656)]\n",
      "\n",
      "Top 10 results from Hamlet\n",
      "\n",
      "[('hamlet', 43.38476656757359), ('pol', 34.86999929730214), ('tis', 29.598952891896), ('th', 29.193487783787837), ('laer', 25.138836702706193), ('oph', 23.516976270273535), ('horatio', 19.056860081083727), ('laertes', 18.651394972975563), ('ros', 18.245929864867396), ('exit', 16.218604324326577)]\n",
      "\n",
      "Top 10 results from Gettysburg Address\n",
      "\n",
      "[('devotion', 0.8109302162163288), ('proposition', 0.4054651081081644), ('unfinished', 0.4054651081081644), ('detract', 0.4054651081081644), ('honored', 0.4054651081081644), ('testing', 0.4054651081081644), ('civil', 0.4054651081081644), ('final', 0.4054651081081644), ('nobly', 0.4054651081081644), ('battle', 0.0)]\n"
     ]
    }
   ],
   "source": [
    "all_counts = [bible, hamlet, gettysburg]\n",
    "bible_results = sort_dict_by_value(tf_idf(bible, all_counts))\n",
    "hamlet_results = sort_dict_by_value(tf_idf(hamlet, all_counts))\n",
    "gettysburg_results = sort_dict_by_value(tf_idf(gettysburg, all_counts))\n",
    "\n",
    "print(\"\\nTop 10 results from the Bible\\n\")\n",
    "print(bible_results[:10])\n",
    "\n",
    "print(\"\\nTop 10 results from Hamlet\\n\")\n",
    "print(hamlet_results[:10])\n",
    "\n",
    "print(\"\\nTop 10 results from Gettysburg Address\\n\")\n",
    "print(gettysburg_results[:10])"
   ]
  }
 ],
 "metadata": {
  "kernelspec": {
   "display_name": "Python 2",
   "language": "python",
   "name": "python2"
  },
  "language_info": {
   "codemirror_mode": {
    "name": "ipython",
    "version": 2
   },
   "file_extension": ".py",
   "mimetype": "text/x-python",
   "name": "python",
   "nbconvert_exporter": "python",
   "pygments_lexer": "ipython2",
   "version": "2.7.11"
  }
 },
 "nbformat": 4,
 "nbformat_minor": 0
}
